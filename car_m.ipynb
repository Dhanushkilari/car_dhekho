{
 "cells": [
  {
   "cell_type": "code",
   "execution_count": 1,
   "metadata": {},
   "outputs": [
    {
     "name": "stdout",
     "output_type": "stream",
     "text": [
      "Requirement already satisfied: xgboost in c:\\users\\darkk\\appdata\\local\\programs\\python\\python312\\lib\\site-packages (2.1.1)\n",
      "Requirement already satisfied: numpy in c:\\users\\darkk\\appdata\\local\\programs\\python\\python312\\lib\\site-packages (from xgboost) (2.0.1)\n",
      "Requirement already satisfied: scipy in c:\\users\\darkk\\appdata\\local\\programs\\python\\python312\\lib\\site-packages (from xgboost) (1.14.0)\n"
     ]
    }
   ],
   "source": [
    "!pip install xgboost"
   ]
  },
  {
   "cell_type": "code",
   "execution_count": 2,
   "metadata": {},
   "outputs": [
    {
     "name": "stdout",
     "output_type": "stream",
     "text": [
      "Training feature set shape: (6263, 316)\n",
      "Testing feature set shape: (1566, 316)\n"
     ]
    }
   ],
   "source": [
    "import pandas as pd\n",
    "from sklearn.model_selection import train_test_split\n",
    "from sklearn.linear_model import LinearRegression\n",
    "from sklearn.tree import DecisionTreeRegressor\n",
    "from sklearn.ensemble import RandomForestRegressor\n",
    "from xgboost import XGBRegressor\n",
    "from sklearn.metrics import mean_squared_error, mean_absolute_error, r2_score, mean_absolute_percentage_error\n",
    "\n",
    "file_path = r'C:/Users/Darkk/OneDrive/Desktop/cars/final_car.xlsx'\n",
    "\n",
    "# Load the Excel file\n",
    "df_cars_final = pd.read_excel(file_path)\n",
    "\n",
    "categorical_features = df_cars_final.select_dtypes(include=['object']).columns\n",
    "numerical_features = df_cars_final.select_dtypes(include=['number']).columns\n",
    "\n",
    "# Separate the target variable\n",
    "X = df_cars_final.drop('price', axis=1)\n",
    "y = df_cars_final['price']\n",
    "\n",
    "# Apply one-hot encoding to categorical variables\n",
    "X_encoded = pd.get_dummies(X, columns=categorical_features, drop_first=True)\n",
    "\n",
    "# Split the data into training and testing sets\n",
    "X_train, X_test, y_train, y_test = train_test_split(X_encoded, y, test_size=0.2, random_state=42)\n",
    "\n",
    "print(f\"Training feature set shape: {X_train.shape}\")\n",
    "print(f\"Testing feature set shape: {X_test.shape}\")"
   ]
  },
  {
   "cell_type": "code",
   "execution_count": 3,
   "metadata": {},
   "outputs": [
    {
     "name": "stdout",
     "output_type": "stream",
     "text": [
      "                      MSE_train      MAE_train  R2_train  MAPE_train  \\\n",
      "Linear Regression  7.178467e+10  158572.249671  0.865367   28.463700   \n",
      "Decision Tree      1.812904e+08     704.667625  0.999660    0.079229   \n",
      "Random Forest      6.362064e+09   41600.658961  0.988068    6.022444   \n",
      "XGBoost            9.945143e+09   65721.555442  0.981348   10.836095   \n",
      "\n",
      "                       MSE_test       MAE_test   R2_test  MAPE_test  \n",
      "Linear Regression  7.988207e+10  161289.733168  0.811879  29.684028  \n",
      "Decision Tree      6.707526e+10  130917.766922  0.842039  18.239362  \n",
      "Random Forest      3.416245e+10   99923.812095  0.919548  14.953844  \n",
      "XGBoost            3.375828e+10   97552.215921  0.920500  14.406064  \n"
     ]
    }
   ],
   "source": [
    "\n",
    "# Define the models\n",
    "models = {\n",
    "    'Linear Regression': LinearRegression(),\n",
    "    'Decision Tree': DecisionTreeRegressor(),\n",
    "    'Random Forest': RandomForestRegressor(),\n",
    "    'XGBoost': XGBRegressor()\n",
    "}\n",
    "\n",
    "# Store the results\n",
    "results = {}\n",
    "# Evaluate each model\n",
    "for model_name, model in models.items():\n",
    "    # Train the model\n",
    "    model.fit(X_train, y_train)\n",
    "    \n",
    "    # Make predictions\n",
    "    y_train_pred = model.predict(X_train)\n",
    "    y_test_pred = model.predict(X_test)\n",
    "    \n",
    "    # Calculate metrics\n",
    "    mse_train = mean_squared_error(y_train, y_train_pred)\n",
    "    mae_train = mean_absolute_error(y_train, y_train_pred)\n",
    "    r2_train = r2_score(y_train, y_train_pred)\n",
    "    mape_train = mean_absolute_percentage_error(y_train, y_train_pred) * 100\n",
    "    \n",
    "    mse_test = mean_squared_error(y_test, y_test_pred)\n",
    "    mae_test = mean_absolute_error(y_test, y_test_pred)\n",
    "    r2_test = r2_score(y_test, y_test_pred)\n",
    "    mape_test = mean_absolute_percentage_error(y_test, y_test_pred) * 100\n",
    "    \n",
    "    # Store the results\n",
    "    results[model_name] = {\n",
    "        'MSE_train': mse_train,\n",
    "        'MAE_train': mae_train,\n",
    "        'R2_train': r2_train,\n",
    "        'MAPE_train': mape_train,\n",
    "        'MSE_test': mse_test,\n",
    "        'MAE_test':mae_test,\n",
    "        'R2_test': r2_test,\n",
    "        'MAPE_test': mape_test\n",
    "    }\n",
    "\n",
    "# Convert results to DataFrame\n",
    "results_df = pd.DataFrame(results).T\n",
    "print(results_df)"
   ]
  },
  {
   "cell_type": "code",
   "execution_count": 4,
   "metadata": {},
   "outputs": [
    {
     "name": "stdout",
     "output_type": "stream",
     "text": [
      "Fitting 5 folds for each of 50 candidates, totalling 250 fits\n",
      "Best XGBoost Parameters: {'alpha': 0.5, 'colsample_bytree': np.float64(0.6705331755251293), 'lambda': 0, 'learning_rate': 0.1, 'max_depth': 5, 'n_estimators': 300, 'subsample': np.float64(0.9386696766904905)}\n"
     ]
    }
   ],
   "source": [
    "#XGBoost\n",
    "from sklearn.model_selection import RandomizedSearchCV\n",
    "from scipy.stats import uniform\n",
    "\n",
    "param_distributions_xgb = {\n",
    "    'n_estimators': [100, 200, 300],\n",
    "    'max_depth': [3, 4, 5],\n",
    "    'learning_rate': [0.01, 0.1, 0.2],\n",
    "    'subsample': uniform(0.5, 0.5),\n",
    "    'colsample_bytree': uniform(0.5, 0.5),\n",
    "    'alpha': [0, 0.1, 0.5, 1],\n",
    "    'lambda': [0, 0.1, 0.5, 1]\n",
    "}\n",
    "\n",
    "xgb_model = XGBRegressor(objective='reg:squarederror', random_state=42)\n",
    "xgb_random_search = RandomizedSearchCV(\n",
    "    xgb_model,\n",
    "    param_distributions=param_distributions_xgb,\n",
    "    n_iter=50,\n",
    "    scoring='neg_mean_absolute_percentage_error',\n",
    "    cv=5,\n",
    "    n_jobs=-1,\n",
    "    verbose=1,\n",
    "    random_state=42\n",
    ")\n",
    "\n",
    "xgb_random_search.fit(X_train, y_train)\n",
    "best_xgb_params = xgb_random_search.best_params_\n",
    "print(f\"Best XGBoost Parameters: {best_xgb_params}\")"
   ]
  },
  {
   "cell_type": "code",
   "execution_count": 11,
   "metadata": {},
   "outputs": [
    {
     "name": "stdout",
     "output_type": "stream",
     "text": [
      "Random Forest Train MSE: 81416820414.9345\n",
      "Random Forest Train R^2: 0.8473017180366543\n",
      "Random Forest Train MAPE: 25.834345559759996%\n",
      "Random Forest Test MSE: 76097144102.37793\n",
      "Random Forest Test R^2: 0.820792336257405\n",
      "Random Forest Test MAPE: 25.033820002890728%\n"
     ]
    }
   ],
   "source": [
    "# Initialize and train the Random Forest model with best parameters\n",
    "rf_model = RandomForestRegressor(n_estimators=300, \n",
    "                                 max_depth=5, \n",
    "                                 min_samples_split=2, \n",
    "                                 min_samples_leaf=1,\n",
    "                                 random_state=42)\n",
    "rf_model.fit(X_train, y_train)\n",
    "\n",
    "# Make predictions\n",
    "y_train_pred_rf = rf_model.predict(X_train)\n",
    "\n",
    "# Calculate metrics for the training set\n",
    "mse_train_rf = mean_squared_error(y_train, y_train_pred_rf)\n",
    "r2_train_rf = r2_score(y_train, y_train_pred_rf)\n",
    "mape_train_rf = mean_absolute_percentage_error(y_train, y_train_pred_rf) * 100\n",
    "\n",
    "# Print metrics for the training set\n",
    "print(f\"Random Forest Train MSE: {mse_train_rf}\")\n",
    "print(f\"Random Forest Train R^2: {r2_train_rf}\")\n",
    "print(f\"Random Forest Train MAPE: {mape_train_rf}%\")\n",
    "\n",
    "# Make predictions on the test set\n",
    "y_test_pred_rf = rf_model.predict(X_test)\n",
    "\n",
    "# Calculate metrics for the test set\n",
    "mse_test_rf = mean_squared_error(y_test, y_test_pred_rf)\n",
    "r2_test_rf = r2_score(y_test, y_test_pred_rf)\n",
    "mape_test_rf = mean_absolute_percentage_error(y_test, y_test_pred_rf) * 100\n",
    "\n",
    "# Print metrics for the test set\n",
    "print(f\"Random Forest Test MSE: {mse_test_rf}\")\n",
    "print(f\"Random Forest Test R^2: {r2_test_rf}\")\n",
    "print(f\"Random Forest Test MAPE: {mape_test_rf}%\")"
   ]
  },
  {
   "cell_type": "code",
   "execution_count": 13,
   "metadata": {},
   "outputs": [
    {
     "name": "stderr",
     "output_type": "stream",
     "text": [
      "c:\\Users\\Darkk\\AppData\\Local\\Programs\\Python\\Python312\\Lib\\site-packages\\xgboost\\core.py:158: UserWarning: [20:56:29] WARNING: C:\\buildkite-agent\\builds\\buildkite-windows-cpu-autoscaling-group-i-0015a694724fa8361-1\\xgboost\\xgboost-ci-windows\\src\\learner.cc:740: \n",
      "Parameters: { \"lambda_\" } are not used.\n",
      "\n",
      "  warnings.warn(smsg, UserWarning)\n"
     ]
    },
    {
     "name": "stdout",
     "output_type": "stream",
     "text": [
      "XGBoost Train MSE: 12361176071.35584\n",
      "XGBoost Train R^2: 0.9768164570966686\n",
      "XGBoost Train MAPE: 12.428734735746211%\n",
      "XGBoost Test MSE: 31687653737.574192\n",
      "XGBoost Test R^2: 0.9253760379212769\n",
      "XGBoost Test MAPE: 14.645574731494088%\n"
     ]
    }
   ],
   "source": [
    "#Best XGBoost Parameters: \n",
    "\n",
    "xgb_model = XGBRegressor(alpha=0.5, \n",
    "                         colsample_bytree=0.6705331755251293, \n",
    "                         lambda_=0, \n",
    "                         learning_rate=0.1, \n",
    "                         max_depth=5, \n",
    "                         n_estimators=300, \n",
    "                         subsample=0.9386696766904905, \n",
    "                         objective='reg:squarederror',\n",
    "                         random_state=42)\n",
    "xgb_model.fit(X_train, y_train)\n",
    "\n",
    "\n",
    "# Make predictions\n",
    "y_train_pred_xgb = xgb_model.predict(X_train)\n",
    "\n",
    "# Calculate metrics\n",
    "mse_train_xgb = mean_squared_error(y_train, y_train_pred_xgb)\n",
    "r2_train_xgb = r2_score(y_train, y_train_pred_xgb)\n",
    "mape_train_xgb = mean_absolute_percentage_error(y_train, y_train_pred_xgb) * 100\n",
    "\n",
    "print(f\"XGBoost Train MSE: {mse_train_xgb}\")\n",
    "print(f\"XGBoost Train R^2: {r2_train_xgb}\")\n",
    "print(f\"XGBoost Train MAPE: {mape_train_xgb}%\")\n",
    "\n",
    "# Make predictions\n",
    "y_test_pred_xgb = xgb_model.predict(X_test)\n",
    "\n",
    "# Calculate metrics\n",
    "mse_test_xgb = mean_squared_error(y_test, y_test_pred_xgb)\n",
    "r2_test_xgb = r2_score(y_test, y_test_pred_xgb)\n",
    "mape_test_xgb = mean_absolute_percentage_error(y_test, y_test_pred_xgb) * 100\n",
    "\n",
    "print(f\"XGBoost Test MSE: {mse_test_xgb}\")\n",
    "print(f\"XGBoost Test R^2: {r2_test_xgb}\")\n",
    "print(f\"XGBoost Test MAPE: {mape_test_xgb}%\")"
   ]
  },
  {
   "cell_type": "code",
   "execution_count": 14,
   "metadata": {},
   "outputs": [
    {
     "data": {
      "text/plain": [
       "['xgboost_model.pkl']"
      ]
     },
     "execution_count": 14,
     "metadata": {},
     "output_type": "execute_result"
    }
   ],
   "source": [
    "import joblib\n",
    "\n",
    "# Save the model\n",
    "joblib.dump(xgb_model, 'xgboost_model.pkl')"
   ]
  },
  {
   "cell_type": "code",
   "execution_count": 15,
   "metadata": {},
   "outputs": [],
   "source": [
    "\n",
    "# Assuming you have a test dataset 'X_test'\n",
    "predictions = xgb_model.predict(X_test)\n",
    "\n",
    "# Convert predictions to a DataFrame\n",
    "df_predictions = pd.DataFrame(predictions, columns=['Predictions'])\n",
    "\n",
    "# Save as CSV\n",
    "df_predictions.to_csv('predictions.csv', index=False)\n",
    "\n",
    "# Save as Excel\n",
    "df_predictions.to_excel('predictions.xlsx', index=False)\n"
   ]
  },
  {
   "cell_type": "code",
   "execution_count": 16,
   "metadata": {},
   "outputs": [
    {
     "data": {
      "text/plain": [
       "['encoded_columns.pkl']"
      ]
     },
     "execution_count": 16,
     "metadata": {},
     "output_type": "execute_result"
    }
   ],
   "source": [
    "# Save column names for encoding\n",
    "encoded_columns = list(X_encoded.columns)\n",
    "joblib.dump(encoded_columns, 'encoded_columns.pkl')"
   ]
  },
  {
   "cell_type": "code",
   "execution_count": 17,
   "metadata": {},
   "outputs": [],
   "source": [
    "# Get feature importance as a dictionary\n",
    "feature_importance = xgb_model.get_booster().get_score(importance_type='weight')\n",
    "\n",
    "# Convert to a DataFrame\n",
    "df_importance = pd.DataFrame(list(feature_importance.items()), columns=['Feature', 'Importance'])\n",
    "\n",
    "# Save as CSV\n",
    "df_importance.to_csv('feature_importance.csv', index=False)\n",
    "\n",
    "# Save as Excel\n",
    "df_importance.to_excel('feature_importance.xlsx', index=False)\n"
   ]
  }
 ],
 "metadata": {
  "kernelspec": {
   "display_name": "Python 3",
   "language": "python",
   "name": "python3"
  },
  "language_info": {
   "codemirror_mode": {
    "name": "ipython",
    "version": 3
   },
   "file_extension": ".py",
   "mimetype": "text/x-python",
   "name": "python",
   "nbconvert_exporter": "python",
   "pygments_lexer": "ipython3",
   "version": "3.12.3"
  }
 },
 "nbformat": 4,
 "nbformat_minor": 2
}
